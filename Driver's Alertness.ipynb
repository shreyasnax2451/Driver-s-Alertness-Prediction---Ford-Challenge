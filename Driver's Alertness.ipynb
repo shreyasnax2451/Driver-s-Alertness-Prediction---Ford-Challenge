{
 "cells": [
  {
   "cell_type": "code",
   "execution_count": 1,
   "metadata": {},
   "outputs": [],
   "source": [
    "import opendatasets as od\n",
    "import matplotlib.pyplot as plt\n",
    "import seaborn as sns\n",
    "import pandas as pd\n",
    "import numpy as np\n",
    "import matplotlib\n",
    "import jovian\n",
    "import os\n",
    "%matplotlib inline\n",
    "\n",
    "pd.set_option('display.max_columns', None)\n",
    "pd.set_option('display.max_rows', 150)\n",
    "sns.set_style('darkgrid')\n",
    "matplotlib.rcParams['font.size'] = 14\n",
    "matplotlib.rcParams['figure.figsize'] = (10, 6)\n",
    "matplotlib.rcParams['figure.facecolor'] = '#00000000'"
   ]
  },
  {
   "cell_type": "markdown",
   "metadata": {},
   "source": [
    "# Downloading Dataset from Kaggle"
   ]
  },
  {
   "cell_type": "code",
   "execution_count": 2,
   "metadata": {},
   "outputs": [
    {
     "name": "stderr",
     "output_type": "stream",
     "text": [
      "  0%|                                                                                      | 0.00/18.2M [00:00<?, ?B/s]"
     ]
    },
    {
     "name": "stdout",
     "output_type": "stream",
     "text": [
      "Downloading stayalert.zip to .\\stayalert\n"
     ]
    },
    {
     "name": "stderr",
     "output_type": "stream",
     "text": [
      "100%|█████████████████████████████████████████████████████████████████████████████| 18.2M/18.2M [00:01<00:00, 10.3MB/s]\n"
     ]
    },
    {
     "name": "stdout",
     "output_type": "stream",
     "text": [
      "\n",
      "Extracting archive .\\stayalert/stayalert.zip to .\\stayalert\n"
     ]
    }
   ],
   "source": [
    "od.download('https://www.kaggle.com/c/stayalert')"
   ]
  },
  {
   "cell_type": "code",
   "execution_count": 3,
   "metadata": {},
   "outputs": [
    {
     "data": {
      "text/plain": [
       "['example_submission.csv', 'fordTest.csv', 'fordTrain.csv', 'Solution.csv']"
      ]
     },
     "execution_count": 3,
     "metadata": {},
     "output_type": "execute_result"
    }
   ],
   "source": [
    "os.listdir('stayalert')"
   ]
  },
  {
   "cell_type": "markdown",
   "metadata": {},
   "source": [
    "# Loading Dataset"
   ]
  },
  {
   "cell_type": "code",
   "execution_count": 4,
   "metadata": {},
   "outputs": [],
   "source": [
    "train_df = pd.read_csv('stayalert/fordTrain.csv')"
   ]
  },
  {
   "cell_type": "code",
   "execution_count": 9,
   "metadata": {},
   "outputs": [
    {
     "data": {
      "text/plain": [
       "(604329, 33)"
      ]
     },
     "execution_count": 9,
     "metadata": {},
     "output_type": "execute_result"
    }
   ],
   "source": [
    "train_df.shape"
   ]
  },
  {
   "cell_type": "code",
   "execution_count": 5,
   "metadata": {},
   "outputs": [
    {
     "data": {
      "text/html": [
       "<div>\n",
       "<style scoped>\n",
       "    .dataframe tbody tr th:only-of-type {\n",
       "        vertical-align: middle;\n",
       "    }\n",
       "\n",
       "    .dataframe tbody tr th {\n",
       "        vertical-align: top;\n",
       "    }\n",
       "\n",
       "    .dataframe thead th {\n",
       "        text-align: right;\n",
       "    }\n",
       "</style>\n",
       "<table border=\"1\" class=\"dataframe\">\n",
       "  <thead>\n",
       "    <tr style=\"text-align: right;\">\n",
       "      <th></th>\n",
       "      <th>TrialID</th>\n",
       "      <th>ObsNum</th>\n",
       "      <th>IsAlert</th>\n",
       "      <th>P1</th>\n",
       "      <th>P2</th>\n",
       "      <th>P3</th>\n",
       "      <th>P4</th>\n",
       "      <th>P5</th>\n",
       "      <th>P6</th>\n",
       "      <th>P7</th>\n",
       "      <th>P8</th>\n",
       "      <th>E1</th>\n",
       "      <th>E2</th>\n",
       "      <th>E3</th>\n",
       "      <th>E4</th>\n",
       "      <th>E5</th>\n",
       "      <th>E6</th>\n",
       "      <th>E7</th>\n",
       "      <th>E8</th>\n",
       "      <th>E9</th>\n",
       "      <th>E10</th>\n",
       "      <th>E11</th>\n",
       "      <th>V1</th>\n",
       "      <th>V2</th>\n",
       "      <th>V3</th>\n",
       "      <th>V4</th>\n",
       "      <th>V5</th>\n",
       "      <th>V6</th>\n",
       "      <th>V7</th>\n",
       "      <th>V8</th>\n",
       "      <th>V9</th>\n",
       "      <th>V10</th>\n",
       "      <th>V11</th>\n",
       "    </tr>\n",
       "  </thead>\n",
       "  <tbody>\n",
       "    <tr>\n",
       "      <th>0</th>\n",
       "      <td>0</td>\n",
       "      <td>0</td>\n",
       "      <td>0</td>\n",
       "      <td>34.7406</td>\n",
       "      <td>9.84593</td>\n",
       "      <td>1400</td>\n",
       "      <td>42.8571</td>\n",
       "      <td>0.290601</td>\n",
       "      <td>572</td>\n",
       "      <td>104.895</td>\n",
       "      <td>0</td>\n",
       "      <td>0.0</td>\n",
       "      <td>0.0</td>\n",
       "      <td>1</td>\n",
       "      <td>-20</td>\n",
       "      <td>0.015875</td>\n",
       "      <td>324</td>\n",
       "      <td>1</td>\n",
       "      <td>1</td>\n",
       "      <td>1</td>\n",
       "      <td>57</td>\n",
       "      <td>0.0</td>\n",
       "      <td>101.96</td>\n",
       "      <td>0.175</td>\n",
       "      <td>752</td>\n",
       "      <td>5.99375</td>\n",
       "      <td>0</td>\n",
       "      <td>2005</td>\n",
       "      <td>0</td>\n",
       "      <td>13.4</td>\n",
       "      <td>0</td>\n",
       "      <td>4</td>\n",
       "      <td>14.8004</td>\n",
       "    </tr>\n",
       "    <tr>\n",
       "      <th>1</th>\n",
       "      <td>0</td>\n",
       "      <td>1</td>\n",
       "      <td>0</td>\n",
       "      <td>34.4215</td>\n",
       "      <td>13.41120</td>\n",
       "      <td>1400</td>\n",
       "      <td>42.8571</td>\n",
       "      <td>0.290601</td>\n",
       "      <td>572</td>\n",
       "      <td>104.895</td>\n",
       "      <td>0</td>\n",
       "      <td>0.0</td>\n",
       "      <td>0.0</td>\n",
       "      <td>1</td>\n",
       "      <td>-20</td>\n",
       "      <td>0.015875</td>\n",
       "      <td>324</td>\n",
       "      <td>1</td>\n",
       "      <td>1</td>\n",
       "      <td>1</td>\n",
       "      <td>57</td>\n",
       "      <td>0.0</td>\n",
       "      <td>101.98</td>\n",
       "      <td>0.455</td>\n",
       "      <td>752</td>\n",
       "      <td>5.99375</td>\n",
       "      <td>0</td>\n",
       "      <td>2007</td>\n",
       "      <td>0</td>\n",
       "      <td>13.4</td>\n",
       "      <td>0</td>\n",
       "      <td>4</td>\n",
       "      <td>14.7729</td>\n",
       "    </tr>\n",
       "    <tr>\n",
       "      <th>2</th>\n",
       "      <td>0</td>\n",
       "      <td>2</td>\n",
       "      <td>0</td>\n",
       "      <td>34.3447</td>\n",
       "      <td>15.18520</td>\n",
       "      <td>1400</td>\n",
       "      <td>42.8571</td>\n",
       "      <td>0.290601</td>\n",
       "      <td>576</td>\n",
       "      <td>104.167</td>\n",
       "      <td>0</td>\n",
       "      <td>0.0</td>\n",
       "      <td>0.0</td>\n",
       "      <td>1</td>\n",
       "      <td>-20</td>\n",
       "      <td>0.015875</td>\n",
       "      <td>324</td>\n",
       "      <td>1</td>\n",
       "      <td>1</td>\n",
       "      <td>1</td>\n",
       "      <td>57</td>\n",
       "      <td>0.0</td>\n",
       "      <td>101.97</td>\n",
       "      <td>0.280</td>\n",
       "      <td>752</td>\n",
       "      <td>5.99375</td>\n",
       "      <td>0</td>\n",
       "      <td>2011</td>\n",
       "      <td>0</td>\n",
       "      <td>13.4</td>\n",
       "      <td>0</td>\n",
       "      <td>4</td>\n",
       "      <td>14.7736</td>\n",
       "    </tr>\n",
       "    <tr>\n",
       "      <th>3</th>\n",
       "      <td>0</td>\n",
       "      <td>3</td>\n",
       "      <td>0</td>\n",
       "      <td>34.3421</td>\n",
       "      <td>8.84696</td>\n",
       "      <td>1400</td>\n",
       "      <td>42.8571</td>\n",
       "      <td>0.290601</td>\n",
       "      <td>576</td>\n",
       "      <td>104.167</td>\n",
       "      <td>0</td>\n",
       "      <td>0.0</td>\n",
       "      <td>0.0</td>\n",
       "      <td>1</td>\n",
       "      <td>-20</td>\n",
       "      <td>0.015875</td>\n",
       "      <td>324</td>\n",
       "      <td>1</td>\n",
       "      <td>1</td>\n",
       "      <td>1</td>\n",
       "      <td>57</td>\n",
       "      <td>0.0</td>\n",
       "      <td>101.99</td>\n",
       "      <td>0.070</td>\n",
       "      <td>752</td>\n",
       "      <td>5.99375</td>\n",
       "      <td>0</td>\n",
       "      <td>2015</td>\n",
       "      <td>0</td>\n",
       "      <td>13.4</td>\n",
       "      <td>0</td>\n",
       "      <td>4</td>\n",
       "      <td>14.7667</td>\n",
       "    </tr>\n",
       "    <tr>\n",
       "      <th>4</th>\n",
       "      <td>0</td>\n",
       "      <td>4</td>\n",
       "      <td>0</td>\n",
       "      <td>34.3322</td>\n",
       "      <td>14.69940</td>\n",
       "      <td>1400</td>\n",
       "      <td>42.8571</td>\n",
       "      <td>0.290601</td>\n",
       "      <td>576</td>\n",
       "      <td>104.167</td>\n",
       "      <td>0</td>\n",
       "      <td>0.0</td>\n",
       "      <td>0.0</td>\n",
       "      <td>1</td>\n",
       "      <td>-20</td>\n",
       "      <td>0.015875</td>\n",
       "      <td>324</td>\n",
       "      <td>1</td>\n",
       "      <td>1</td>\n",
       "      <td>1</td>\n",
       "      <td>57</td>\n",
       "      <td>0.0</td>\n",
       "      <td>102.07</td>\n",
       "      <td>0.175</td>\n",
       "      <td>752</td>\n",
       "      <td>5.99375</td>\n",
       "      <td>0</td>\n",
       "      <td>2017</td>\n",
       "      <td>0</td>\n",
       "      <td>13.4</td>\n",
       "      <td>0</td>\n",
       "      <td>4</td>\n",
       "      <td>14.7757</td>\n",
       "    </tr>\n",
       "  </tbody>\n",
       "</table>\n",
       "</div>"
      ],
      "text/plain": [
       "   TrialID  ObsNum  IsAlert       P1        P2    P3       P4        P5   P6  \\\n",
       "0        0       0        0  34.7406   9.84593  1400  42.8571  0.290601  572   \n",
       "1        0       1        0  34.4215  13.41120  1400  42.8571  0.290601  572   \n",
       "2        0       2        0  34.3447  15.18520  1400  42.8571  0.290601  576   \n",
       "3        0       3        0  34.3421   8.84696  1400  42.8571  0.290601  576   \n",
       "4        0       4        0  34.3322  14.69940  1400  42.8571  0.290601  576   \n",
       "\n",
       "        P7  P8   E1   E2  E3  E4        E5   E6  E7  E8  E9  E10  E11      V1  \\\n",
       "0  104.895   0  0.0  0.0   1 -20  0.015875  324   1   1   1   57  0.0  101.96   \n",
       "1  104.895   0  0.0  0.0   1 -20  0.015875  324   1   1   1   57  0.0  101.98   \n",
       "2  104.167   0  0.0  0.0   1 -20  0.015875  324   1   1   1   57  0.0  101.97   \n",
       "3  104.167   0  0.0  0.0   1 -20  0.015875  324   1   1   1   57  0.0  101.99   \n",
       "4  104.167   0  0.0  0.0   1 -20  0.015875  324   1   1   1   57  0.0  102.07   \n",
       "\n",
       "      V2   V3       V4  V5    V6  V7    V8  V9  V10      V11  \n",
       "0  0.175  752  5.99375   0  2005   0  13.4   0    4  14.8004  \n",
       "1  0.455  752  5.99375   0  2007   0  13.4   0    4  14.7729  \n",
       "2  0.280  752  5.99375   0  2011   0  13.4   0    4  14.7736  \n",
       "3  0.070  752  5.99375   0  2015   0  13.4   0    4  14.7667  \n",
       "4  0.175  752  5.99375   0  2017   0  13.4   0    4  14.7757  "
      ]
     },
     "execution_count": 5,
     "metadata": {},
     "output_type": "execute_result"
    }
   ],
   "source": [
    "train_df.head()"
   ]
  },
  {
   "cell_type": "code",
   "execution_count": 6,
   "metadata": {},
   "outputs": [
    {
     "data": {
      "text/plain": [
       "TrialID    0\n",
       "ObsNum     0\n",
       "IsAlert    0\n",
       "P1         0\n",
       "P2         0\n",
       "P3         0\n",
       "P4         0\n",
       "P5         0\n",
       "P6         0\n",
       "P7         0\n",
       "P8         0\n",
       "E1         0\n",
       "E2         0\n",
       "E3         0\n",
       "E4         0\n",
       "E5         0\n",
       "E6         0\n",
       "E7         0\n",
       "E8         0\n",
       "E9         0\n",
       "E10        0\n",
       "E11        0\n",
       "V1         0\n",
       "V2         0\n",
       "V3         0\n",
       "V4         0\n",
       "V5         0\n",
       "V6         0\n",
       "V7         0\n",
       "V8         0\n",
       "V9         0\n",
       "V10        0\n",
       "V11        0\n",
       "dtype: int64"
      ]
     },
     "execution_count": 6,
     "metadata": {},
     "output_type": "execute_result"
    }
   ],
   "source": [
    "train_df.isnull().sum()"
   ]
  },
  {
   "cell_type": "code",
   "execution_count": 7,
   "metadata": {},
   "outputs": [
    {
     "data": {
      "text/html": [
       "<div>\n",
       "<style scoped>\n",
       "    .dataframe tbody tr th:only-of-type {\n",
       "        vertical-align: middle;\n",
       "    }\n",
       "\n",
       "    .dataframe tbody tr th {\n",
       "        vertical-align: top;\n",
       "    }\n",
       "\n",
       "    .dataframe thead th {\n",
       "        text-align: right;\n",
       "    }\n",
       "</style>\n",
       "<table border=\"1\" class=\"dataframe\">\n",
       "  <thead>\n",
       "    <tr style=\"text-align: right;\">\n",
       "      <th></th>\n",
       "      <th>TrialID</th>\n",
       "      <th>ObsNum</th>\n",
       "      <th>IsAlert</th>\n",
       "      <th>P1</th>\n",
       "      <th>P2</th>\n",
       "      <th>P3</th>\n",
       "      <th>P4</th>\n",
       "      <th>P5</th>\n",
       "      <th>P6</th>\n",
       "      <th>P7</th>\n",
       "      <th>P8</th>\n",
       "      <th>E1</th>\n",
       "      <th>E2</th>\n",
       "      <th>E3</th>\n",
       "      <th>E4</th>\n",
       "      <th>E5</th>\n",
       "      <th>E6</th>\n",
       "      <th>E7</th>\n",
       "      <th>E8</th>\n",
       "      <th>E9</th>\n",
       "      <th>E10</th>\n",
       "      <th>E11</th>\n",
       "      <th>V1</th>\n",
       "      <th>V2</th>\n",
       "      <th>V3</th>\n",
       "      <th>V4</th>\n",
       "      <th>V5</th>\n",
       "      <th>V6</th>\n",
       "      <th>V7</th>\n",
       "      <th>V8</th>\n",
       "      <th>V9</th>\n",
       "      <th>V10</th>\n",
       "      <th>V11</th>\n",
       "    </tr>\n",
       "  </thead>\n",
       "  <tbody>\n",
       "    <tr>\n",
       "      <th>count</th>\n",
       "      <td>604329.000000</td>\n",
       "      <td>604329.000000</td>\n",
       "      <td>604329.000000</td>\n",
       "      <td>604329.000000</td>\n",
       "      <td>604329.000000</td>\n",
       "      <td>604329.000000</td>\n",
       "      <td>604329.000000</td>\n",
       "      <td>604329.000000</td>\n",
       "      <td>604329.000000</td>\n",
       "      <td>604329.000000</td>\n",
       "      <td>604329.0</td>\n",
       "      <td>604329.000000</td>\n",
       "      <td>604329.000000</td>\n",
       "      <td>604329.000000</td>\n",
       "      <td>604329.000000</td>\n",
       "      <td>604329.000000</td>\n",
       "      <td>604329.000000</td>\n",
       "      <td>604329.000000</td>\n",
       "      <td>604329.000000</td>\n",
       "      <td>604329.000000</td>\n",
       "      <td>604329.000000</td>\n",
       "      <td>604329.000000</td>\n",
       "      <td>604329.000000</td>\n",
       "      <td>604329.000000</td>\n",
       "      <td>604329.000000</td>\n",
       "      <td>604329.000000</td>\n",
       "      <td>604329.000000</td>\n",
       "      <td>604329.000000</td>\n",
       "      <td>604329.0</td>\n",
       "      <td>604329.000000</td>\n",
       "      <td>604329.0</td>\n",
       "      <td>604329.000000</td>\n",
       "      <td>604329.000000</td>\n",
       "    </tr>\n",
       "    <tr>\n",
       "      <th>mean</th>\n",
       "      <td>250.167657</td>\n",
       "      <td>603.841765</td>\n",
       "      <td>0.578799</td>\n",
       "      <td>35.449020</td>\n",
       "      <td>11.996525</td>\n",
       "      <td>1026.671035</td>\n",
       "      <td>64.061965</td>\n",
       "      <td>0.178923</td>\n",
       "      <td>845.384610</td>\n",
       "      <td>77.887628</td>\n",
       "      <td>0.0</td>\n",
       "      <td>10.512332</td>\n",
       "      <td>102.790045</td>\n",
       "      <td>0.290565</td>\n",
       "      <td>-4.230136</td>\n",
       "      <td>0.016262</td>\n",
       "      <td>358.674738</td>\n",
       "      <td>1.757296</td>\n",
       "      <td>1.383058</td>\n",
       "      <td>0.876787</td>\n",
       "      <td>63.311256</td>\n",
       "      <td>1.315265</td>\n",
       "      <td>76.965412</td>\n",
       "      <td>-0.037710</td>\n",
       "      <td>573.786433</td>\n",
       "      <td>19.961030</td>\n",
       "      <td>0.179814</td>\n",
       "      <td>1715.688383</td>\n",
       "      <td>0.0</td>\n",
       "      <td>12.710354</td>\n",
       "      <td>0.0</td>\n",
       "      <td>3.312257</td>\n",
       "      <td>11.668277</td>\n",
       "    </tr>\n",
       "    <tr>\n",
       "      <th>std</th>\n",
       "      <td>145.446164</td>\n",
       "      <td>348.931601</td>\n",
       "      <td>0.493752</td>\n",
       "      <td>7.484629</td>\n",
       "      <td>3.760292</td>\n",
       "      <td>309.277877</td>\n",
       "      <td>19.755950</td>\n",
       "      <td>0.372309</td>\n",
       "      <td>2505.335141</td>\n",
       "      <td>18.577930</td>\n",
       "      <td>0.0</td>\n",
       "      <td>14.049071</td>\n",
       "      <td>127.258629</td>\n",
       "      <td>1.006162</td>\n",
       "      <td>35.508596</td>\n",
       "      <td>0.002304</td>\n",
       "      <td>27.399973</td>\n",
       "      <td>2.854852</td>\n",
       "      <td>1.608807</td>\n",
       "      <td>0.328681</td>\n",
       "      <td>18.891029</td>\n",
       "      <td>5.247204</td>\n",
       "      <td>44.387031</td>\n",
       "      <td>0.403896</td>\n",
       "      <td>298.412888</td>\n",
       "      <td>63.269456</td>\n",
       "      <td>0.384033</td>\n",
       "      <td>618.176470</td>\n",
       "      <td>0.0</td>\n",
       "      <td>11.532085</td>\n",
       "      <td>0.0</td>\n",
       "      <td>1.243586</td>\n",
       "      <td>9.934423</td>\n",
       "    </tr>\n",
       "    <tr>\n",
       "      <th>min</th>\n",
       "      <td>0.000000</td>\n",
       "      <td>0.000000</td>\n",
       "      <td>0.000000</td>\n",
       "      <td>-22.481200</td>\n",
       "      <td>-45.629200</td>\n",
       "      <td>504.000000</td>\n",
       "      <td>23.885300</td>\n",
       "      <td>0.038920</td>\n",
       "      <td>128.000000</td>\n",
       "      <td>0.262224</td>\n",
       "      <td>0.0</td>\n",
       "      <td>0.000000</td>\n",
       "      <td>0.000000</td>\n",
       "      <td>0.000000</td>\n",
       "      <td>-250.000000</td>\n",
       "      <td>0.008000</td>\n",
       "      <td>260.000000</td>\n",
       "      <td>0.000000</td>\n",
       "      <td>0.000000</td>\n",
       "      <td>0.000000</td>\n",
       "      <td>0.000000</td>\n",
       "      <td>0.000000</td>\n",
       "      <td>0.000000</td>\n",
       "      <td>-4.795000</td>\n",
       "      <td>240.000000</td>\n",
       "      <td>0.000000</td>\n",
       "      <td>0.000000</td>\n",
       "      <td>0.000000</td>\n",
       "      <td>0.0</td>\n",
       "      <td>0.000000</td>\n",
       "      <td>0.0</td>\n",
       "      <td>1.000000</td>\n",
       "      <td>1.676730</td>\n",
       "    </tr>\n",
       "    <tr>\n",
       "      <th>25%</th>\n",
       "      <td>125.000000</td>\n",
       "      <td>302.000000</td>\n",
       "      <td>0.000000</td>\n",
       "      <td>31.758100</td>\n",
       "      <td>9.903540</td>\n",
       "      <td>792.000000</td>\n",
       "      <td>49.180300</td>\n",
       "      <td>0.092110</td>\n",
       "      <td>668.000000</td>\n",
       "      <td>66.666700</td>\n",
       "      <td>0.0</td>\n",
       "      <td>0.000000</td>\n",
       "      <td>0.000000</td>\n",
       "      <td>0.000000</td>\n",
       "      <td>-8.000000</td>\n",
       "      <td>0.015686</td>\n",
       "      <td>348.000000</td>\n",
       "      <td>0.000000</td>\n",
       "      <td>0.000000</td>\n",
       "      <td>1.000000</td>\n",
       "      <td>52.000000</td>\n",
       "      <td>0.000000</td>\n",
       "      <td>41.930000</td>\n",
       "      <td>-0.175000</td>\n",
       "      <td>255.000000</td>\n",
       "      <td>1.487500</td>\n",
       "      <td>0.000000</td>\n",
       "      <td>1259.000000</td>\n",
       "      <td>0.0</td>\n",
       "      <td>0.000000</td>\n",
       "      <td>0.0</td>\n",
       "      <td>3.000000</td>\n",
       "      <td>7.947680</td>\n",
       "    </tr>\n",
       "    <tr>\n",
       "      <th>50%</th>\n",
       "      <td>250.000000</td>\n",
       "      <td>604.000000</td>\n",
       "      <td>1.000000</td>\n",
       "      <td>34.145100</td>\n",
       "      <td>11.400400</td>\n",
       "      <td>1000.000000</td>\n",
       "      <td>60.000000</td>\n",
       "      <td>0.105083</td>\n",
       "      <td>800.000000</td>\n",
       "      <td>75.000000</td>\n",
       "      <td>0.0</td>\n",
       "      <td>0.000000</td>\n",
       "      <td>0.000000</td>\n",
       "      <td>0.000000</td>\n",
       "      <td>0.000000</td>\n",
       "      <td>0.016001</td>\n",
       "      <td>365.000000</td>\n",
       "      <td>1.000000</td>\n",
       "      <td>1.000000</td>\n",
       "      <td>1.000000</td>\n",
       "      <td>67.000000</td>\n",
       "      <td>0.000000</td>\n",
       "      <td>100.400000</td>\n",
       "      <td>0.000000</td>\n",
       "      <td>511.000000</td>\n",
       "      <td>3.018750</td>\n",
       "      <td>0.000000</td>\n",
       "      <td>1994.000000</td>\n",
       "      <td>0.0</td>\n",
       "      <td>12.800000</td>\n",
       "      <td>0.0</td>\n",
       "      <td>4.000000</td>\n",
       "      <td>10.772600</td>\n",
       "    </tr>\n",
       "    <tr>\n",
       "      <th>75%</th>\n",
       "      <td>374.000000</td>\n",
       "      <td>906.000000</td>\n",
       "      <td>1.000000</td>\n",
       "      <td>37.311900</td>\n",
       "      <td>13.644200</td>\n",
       "      <td>1220.000000</td>\n",
       "      <td>75.757600</td>\n",
       "      <td>0.138814</td>\n",
       "      <td>900.000000</td>\n",
       "      <td>89.820400</td>\n",
       "      <td>0.0</td>\n",
       "      <td>28.240000</td>\n",
       "      <td>211.584000</td>\n",
       "      <td>0.000000</td>\n",
       "      <td>6.000000</td>\n",
       "      <td>0.016694</td>\n",
       "      <td>367.000000</td>\n",
       "      <td>2.000000</td>\n",
       "      <td>2.000000</td>\n",
       "      <td>1.000000</td>\n",
       "      <td>73.000000</td>\n",
       "      <td>0.000000</td>\n",
       "      <td>108.500000</td>\n",
       "      <td>0.070000</td>\n",
       "      <td>767.000000</td>\n",
       "      <td>7.481250</td>\n",
       "      <td>0.000000</td>\n",
       "      <td>2146.000000</td>\n",
       "      <td>0.0</td>\n",
       "      <td>21.900000</td>\n",
       "      <td>0.0</td>\n",
       "      <td>4.000000</td>\n",
       "      <td>15.270900</td>\n",
       "    </tr>\n",
       "    <tr>\n",
       "      <th>max</th>\n",
       "      <td>510.000000</td>\n",
       "      <td>1210.000000</td>\n",
       "      <td>1.000000</td>\n",
       "      <td>101.351000</td>\n",
       "      <td>71.173700</td>\n",
       "      <td>2512.000000</td>\n",
       "      <td>119.048000</td>\n",
       "      <td>27.202200</td>\n",
       "      <td>228812.000000</td>\n",
       "      <td>468.750000</td>\n",
       "      <td>0.0</td>\n",
       "      <td>243.991000</td>\n",
       "      <td>359.995000</td>\n",
       "      <td>4.000000</td>\n",
       "      <td>260.000000</td>\n",
       "      <td>0.023939</td>\n",
       "      <td>513.000000</td>\n",
       "      <td>25.000000</td>\n",
       "      <td>9.000000</td>\n",
       "      <td>1.000000</td>\n",
       "      <td>127.000000</td>\n",
       "      <td>52.400000</td>\n",
       "      <td>129.700000</td>\n",
       "      <td>3.990000</td>\n",
       "      <td>1023.000000</td>\n",
       "      <td>484.488000</td>\n",
       "      <td>1.000000</td>\n",
       "      <td>4892.000000</td>\n",
       "      <td>0.0</td>\n",
       "      <td>82.100000</td>\n",
       "      <td>0.0</td>\n",
       "      <td>7.000000</td>\n",
       "      <td>262.534000</td>\n",
       "    </tr>\n",
       "  </tbody>\n",
       "</table>\n",
       "</div>"
      ],
      "text/plain": [
       "             TrialID         ObsNum        IsAlert             P1  \\\n",
       "count  604329.000000  604329.000000  604329.000000  604329.000000   \n",
       "mean      250.167657     603.841765       0.578799      35.449020   \n",
       "std       145.446164     348.931601       0.493752       7.484629   \n",
       "min         0.000000       0.000000       0.000000     -22.481200   \n",
       "25%       125.000000     302.000000       0.000000      31.758100   \n",
       "50%       250.000000     604.000000       1.000000      34.145100   \n",
       "75%       374.000000     906.000000       1.000000      37.311900   \n",
       "max       510.000000    1210.000000       1.000000     101.351000   \n",
       "\n",
       "                  P2             P3             P4             P5  \\\n",
       "count  604329.000000  604329.000000  604329.000000  604329.000000   \n",
       "mean       11.996525    1026.671035      64.061965       0.178923   \n",
       "std         3.760292     309.277877      19.755950       0.372309   \n",
       "min       -45.629200     504.000000      23.885300       0.038920   \n",
       "25%         9.903540     792.000000      49.180300       0.092110   \n",
       "50%        11.400400    1000.000000      60.000000       0.105083   \n",
       "75%        13.644200    1220.000000      75.757600       0.138814   \n",
       "max        71.173700    2512.000000     119.048000      27.202200   \n",
       "\n",
       "                  P6             P7        P8             E1             E2  \\\n",
       "count  604329.000000  604329.000000  604329.0  604329.000000  604329.000000   \n",
       "mean      845.384610      77.887628       0.0      10.512332     102.790045   \n",
       "std      2505.335141      18.577930       0.0      14.049071     127.258629   \n",
       "min       128.000000       0.262224       0.0       0.000000       0.000000   \n",
       "25%       668.000000      66.666700       0.0       0.000000       0.000000   \n",
       "50%       800.000000      75.000000       0.0       0.000000       0.000000   \n",
       "75%       900.000000      89.820400       0.0      28.240000     211.584000   \n",
       "max    228812.000000     468.750000       0.0     243.991000     359.995000   \n",
       "\n",
       "                  E3             E4             E5             E6  \\\n",
       "count  604329.000000  604329.000000  604329.000000  604329.000000   \n",
       "mean        0.290565      -4.230136       0.016262     358.674738   \n",
       "std         1.006162      35.508596       0.002304      27.399973   \n",
       "min         0.000000    -250.000000       0.008000     260.000000   \n",
       "25%         0.000000      -8.000000       0.015686     348.000000   \n",
       "50%         0.000000       0.000000       0.016001     365.000000   \n",
       "75%         0.000000       6.000000       0.016694     367.000000   \n",
       "max         4.000000     260.000000       0.023939     513.000000   \n",
       "\n",
       "                  E7             E8             E9            E10  \\\n",
       "count  604329.000000  604329.000000  604329.000000  604329.000000   \n",
       "mean        1.757296       1.383058       0.876787      63.311256   \n",
       "std         2.854852       1.608807       0.328681      18.891029   \n",
       "min         0.000000       0.000000       0.000000       0.000000   \n",
       "25%         0.000000       0.000000       1.000000      52.000000   \n",
       "50%         1.000000       1.000000       1.000000      67.000000   \n",
       "75%         2.000000       2.000000       1.000000      73.000000   \n",
       "max        25.000000       9.000000       1.000000     127.000000   \n",
       "\n",
       "                 E11             V1             V2             V3  \\\n",
       "count  604329.000000  604329.000000  604329.000000  604329.000000   \n",
       "mean        1.315265      76.965412      -0.037710     573.786433   \n",
       "std         5.247204      44.387031       0.403896     298.412888   \n",
       "min         0.000000       0.000000      -4.795000     240.000000   \n",
       "25%         0.000000      41.930000      -0.175000     255.000000   \n",
       "50%         0.000000     100.400000       0.000000     511.000000   \n",
       "75%         0.000000     108.500000       0.070000     767.000000   \n",
       "max        52.400000     129.700000       3.990000    1023.000000   \n",
       "\n",
       "                  V4             V5             V6        V7             V8  \\\n",
       "count  604329.000000  604329.000000  604329.000000  604329.0  604329.000000   \n",
       "mean       19.961030       0.179814    1715.688383       0.0      12.710354   \n",
       "std        63.269456       0.384033     618.176470       0.0      11.532085   \n",
       "min         0.000000       0.000000       0.000000       0.0       0.000000   \n",
       "25%         1.487500       0.000000    1259.000000       0.0       0.000000   \n",
       "50%         3.018750       0.000000    1994.000000       0.0      12.800000   \n",
       "75%         7.481250       0.000000    2146.000000       0.0      21.900000   \n",
       "max       484.488000       1.000000    4892.000000       0.0      82.100000   \n",
       "\n",
       "             V9            V10            V11  \n",
       "count  604329.0  604329.000000  604329.000000  \n",
       "mean        0.0       3.312257      11.668277  \n",
       "std         0.0       1.243586       9.934423  \n",
       "min         0.0       1.000000       1.676730  \n",
       "25%         0.0       3.000000       7.947680  \n",
       "50%         0.0       4.000000      10.772600  \n",
       "75%         0.0       4.000000      15.270900  \n",
       "max         0.0       7.000000     262.534000  "
      ]
     },
     "execution_count": 7,
     "metadata": {},
     "output_type": "execute_result"
    }
   ],
   "source": [
    "train_df.describe()"
   ]
  },
  {
   "cell_type": "code",
   "execution_count": 10,
   "metadata": {},
   "outputs": [
    {
     "name": "stdout",
     "output_type": "stream",
     "text": [
      "<class 'pandas.core.frame.DataFrame'>\n",
      "RangeIndex: 604329 entries, 0 to 604328\n",
      "Data columns (total 33 columns):\n",
      " #   Column   Non-Null Count   Dtype  \n",
      "---  ------   --------------   -----  \n",
      " 0   TrialID  604329 non-null  int64  \n",
      " 1   ObsNum   604329 non-null  int64  \n",
      " 2   IsAlert  604329 non-null  int64  \n",
      " 3   P1       604329 non-null  float64\n",
      " 4   P2       604329 non-null  float64\n",
      " 5   P3       604329 non-null  int64  \n",
      " 6   P4       604329 non-null  float64\n",
      " 7   P5       604329 non-null  float64\n",
      " 8   P6       604329 non-null  int64  \n",
      " 9   P7       604329 non-null  float64\n",
      " 10  P8       604329 non-null  int64  \n",
      " 11  E1       604329 non-null  float64\n",
      " 12  E2       604329 non-null  float64\n",
      " 13  E3       604329 non-null  int64  \n",
      " 14  E4       604329 non-null  int64  \n",
      " 15  E5       604329 non-null  float64\n",
      " 16  E6       604329 non-null  int64  \n",
      " 17  E7       604329 non-null  int64  \n",
      " 18  E8       604329 non-null  int64  \n",
      " 19  E9       604329 non-null  int64  \n",
      " 20  E10      604329 non-null  int64  \n",
      " 21  E11      604329 non-null  float64\n",
      " 22  V1       604329 non-null  float64\n",
      " 23  V2       604329 non-null  float64\n",
      " 24  V3       604329 non-null  int64  \n",
      " 25  V4       604329 non-null  float64\n",
      " 26  V5       604329 non-null  int64  \n",
      " 27  V6       604329 non-null  int64  \n",
      " 28  V7       604329 non-null  int64  \n",
      " 29  V8       604329 non-null  float64\n",
      " 30  V9       604329 non-null  int64  \n",
      " 31  V10      604329 non-null  int64  \n",
      " 32  V11      604329 non-null  float64\n",
      "dtypes: float64(14), int64(19)\n",
      "memory usage: 152.2 MB\n"
     ]
    }
   ],
   "source": [
    "train_df.info()"
   ]
  },
  {
   "cell_type": "code",
   "execution_count": 15,
   "metadata": {},
   "outputs": [
    {
     "data": {
      "text/plain": [
       "1023    500\n",
       "633     500\n",
       "128     500\n",
       "640     500\n",
       "1152    500\n",
       "       ... \n",
       "1206    415\n",
       "1207    415\n",
       "1208    415\n",
       "1209    412\n",
       "1210    412\n",
       "Name: ObsNum, Length: 1211, dtype: int64"
      ]
     },
     "execution_count": 15,
     "metadata": {},
     "output_type": "execute_result"
    }
   ],
   "source": [
    "train_df.ObsNum.value_counts()"
   ]
  },
  {
   "cell_type": "code",
   "execution_count": 20,
   "metadata": {},
   "outputs": [],
   "source": [
    "X = train_df.drop('IsAlert',axis = 1)\n",
    "y = train_df.IsAlert"
   ]
  },
  {
   "cell_type": "code",
   "execution_count": 57,
   "metadata": {},
   "outputs": [
    {
     "data": {
      "text/plain": [
       "1    349785\n",
       "0    254544\n",
       "Name: IsAlert, dtype: int64"
      ]
     },
     "execution_count": 57,
     "metadata": {},
     "output_type": "execute_result"
    }
   ],
   "source": [
    "y.value_counts()"
   ]
  },
  {
   "cell_type": "markdown",
   "metadata": {},
   "source": [
    "# Splitting Dataset "
   ]
  },
  {
   "cell_type": "code",
   "execution_count": 22,
   "metadata": {},
   "outputs": [],
   "source": [
    "from sklearn.model_selection import train_test_split\n",
    "X_train,X_test,y_train,y_test = train_test_split(X,y,test_size=0.3,random_state = 42)"
   ]
  },
  {
   "cell_type": "markdown",
   "metadata": {},
   "source": [
    "## Scaling Numerical Columns"
   ]
  },
  {
   "cell_type": "code",
   "execution_count": 25,
   "metadata": {},
   "outputs": [],
   "source": [
    "from sklearn.preprocessing import MinMaxScaler\n",
    "scaler = MinMaxScaler().fit(X_train)\n",
    "X_train = scaler.transform(X_train)\n",
    "X_test = scaler.transform(X_test)"
   ]
  },
  {
   "cell_type": "markdown",
   "metadata": {},
   "source": [
    "## Random Forest Classifier"
   ]
  },
  {
   "cell_type": "code",
   "execution_count": 29,
   "metadata": {},
   "outputs": [
    {
     "data": {
      "text/plain": [
       "RandomForestClassifier(n_jobs=-1, random_state=42)"
      ]
     },
     "execution_count": 29,
     "metadata": {},
     "output_type": "execute_result"
    }
   ],
   "source": [
    "from sklearn.ensemble import RandomForestClassifier\n",
    "model = RandomForestClassifier(n_jobs = -1, random_state = 42)\n",
    "model.fit(X_train,y_train)"
   ]
  },
  {
   "cell_type": "code",
   "execution_count": 76,
   "metadata": {},
   "outputs": [
    {
     "name": "stdout",
     "output_type": "stream",
     "text": [
      "Train Score:1.0\n",
      "Test Score:0.9932\n"
     ]
    }
   ],
   "source": [
    "print(\"Train Score:{}\\nTest Score:{}\".format(round(model.score(X_train,y_train),4),round(model.score(X_test,y_test),4)))"
   ]
  },
  {
   "cell_type": "code",
   "execution_count": 40,
   "metadata": {},
   "outputs": [],
   "source": [
    "test_df = pd.read_csv('stayalert/fordTest.csv')"
   ]
  },
  {
   "cell_type": "code",
   "execution_count": 41,
   "metadata": {},
   "outputs": [
    {
     "data": {
      "text/plain": [
       "TrialID    0\n",
       "ObsNum     0\n",
       "IsAlert    0\n",
       "P1         0\n",
       "P2         0\n",
       "P3         0\n",
       "P4         0\n",
       "P5         0\n",
       "P6         0\n",
       "P7         0\n",
       "P8         0\n",
       "E1         0\n",
       "E2         0\n",
       "E3         0\n",
       "E4         0\n",
       "E5         0\n",
       "E6         0\n",
       "E7         0\n",
       "E8         0\n",
       "E9         0\n",
       "E10        0\n",
       "E11        0\n",
       "V1         0\n",
       "V2         0\n",
       "V3         0\n",
       "V4         0\n",
       "V5         0\n",
       "V6         0\n",
       "V7         0\n",
       "V8         0\n",
       "V9         0\n",
       "V10        0\n",
       "V11        0\n",
       "dtype: int64"
      ]
     },
     "execution_count": 41,
     "metadata": {},
     "output_type": "execute_result"
    }
   ],
   "source": [
    "test_df.isnull().sum()"
   ]
  },
  {
   "cell_type": "code",
   "execution_count": 44,
   "metadata": {},
   "outputs": [],
   "source": [
    "test_df = test_df.drop('IsAlert',axis = 1)"
   ]
  },
  {
   "cell_type": "code",
   "execution_count": 45,
   "metadata": {},
   "outputs": [],
   "source": [
    "test_df = scaler.transform(test_df)"
   ]
  },
  {
   "cell_type": "code",
   "execution_count": 46,
   "metadata": {},
   "outputs": [],
   "source": [
    "predictions = model.predict(test_df)"
   ]
  },
  {
   "cell_type": "code",
   "execution_count": 47,
   "metadata": {},
   "outputs": [],
   "source": [
    "sample = pd.read_csv('stayalert/example_submission.csv')"
   ]
  },
  {
   "cell_type": "code",
   "execution_count": 48,
   "metadata": {},
   "outputs": [
    {
     "data": {
      "text/html": [
       "<div>\n",
       "<style scoped>\n",
       "    .dataframe tbody tr th:only-of-type {\n",
       "        vertical-align: middle;\n",
       "    }\n",
       "\n",
       "    .dataframe tbody tr th {\n",
       "        vertical-align: top;\n",
       "    }\n",
       "\n",
       "    .dataframe thead th {\n",
       "        text-align: right;\n",
       "    }\n",
       "</style>\n",
       "<table border=\"1\" class=\"dataframe\">\n",
       "  <thead>\n",
       "    <tr style=\"text-align: right;\">\n",
       "      <th></th>\n",
       "      <th>TrialID</th>\n",
       "      <th>ObsNum</th>\n",
       "      <th>Prediction</th>\n",
       "    </tr>\n",
       "  </thead>\n",
       "  <tbody>\n",
       "    <tr>\n",
       "      <th>0</th>\n",
       "      <td>0</td>\n",
       "      <td>0</td>\n",
       "      <td>0</td>\n",
       "    </tr>\n",
       "    <tr>\n",
       "      <th>1</th>\n",
       "      <td>0</td>\n",
       "      <td>1</td>\n",
       "      <td>0</td>\n",
       "    </tr>\n",
       "    <tr>\n",
       "      <th>2</th>\n",
       "      <td>0</td>\n",
       "      <td>2</td>\n",
       "      <td>0</td>\n",
       "    </tr>\n",
       "    <tr>\n",
       "      <th>3</th>\n",
       "      <td>0</td>\n",
       "      <td>3</td>\n",
       "      <td>0</td>\n",
       "    </tr>\n",
       "    <tr>\n",
       "      <th>4</th>\n",
       "      <td>0</td>\n",
       "      <td>4</td>\n",
       "      <td>0</td>\n",
       "    </tr>\n",
       "  </tbody>\n",
       "</table>\n",
       "</div>"
      ],
      "text/plain": [
       "   TrialID  ObsNum  Prediction\n",
       "0        0       0           0\n",
       "1        0       1           0\n",
       "2        0       2           0\n",
       "3        0       3           0\n",
       "4        0       4           0"
      ]
     },
     "execution_count": 48,
     "metadata": {},
     "output_type": "execute_result"
    }
   ],
   "source": [
    "sample.head()"
   ]
  },
  {
   "cell_type": "code",
   "execution_count": 49,
   "metadata": {},
   "outputs": [],
   "source": [
    "sample['Prediction'] = predictions"
   ]
  },
  {
   "cell_type": "code",
   "execution_count": 51,
   "metadata": {},
   "outputs": [],
   "source": [
    "sample.to_csv('Predictions.csv')"
   ]
  },
  {
   "cell_type": "code",
   "execution_count": 55,
   "metadata": {},
   "outputs": [
    {
     "data": {
      "text/plain": [
       "['example_submission.csv', 'fordTest.csv', 'fordTrain.csv', 'Solution.csv']"
      ]
     },
     "execution_count": 55,
     "metadata": {},
     "output_type": "execute_result"
    }
   ],
   "source": [
    "os.listdir('stayalert')"
   ]
  },
  {
   "cell_type": "code",
   "execution_count": 56,
   "metadata": {},
   "outputs": [
    {
     "data": {
      "text/plain": [
       "1    104749\n",
       "0     16091\n",
       "Name: Prediction, dtype: int64"
      ]
     },
     "execution_count": 56,
     "metadata": {},
     "output_type": "execute_result"
    }
   ],
   "source": [
    "sample.Prediction.value_counts()"
   ]
  },
  {
   "cell_type": "code",
   "execution_count": 59,
   "metadata": {},
   "outputs": [],
   "source": [
    "pred_orig = pd.read_csv('stayalert/Solution.csv')"
   ]
  },
  {
   "cell_type": "code",
   "execution_count": 65,
   "metadata": {},
   "outputs": [],
   "source": [
    "original_predictions = pred_orig['Prediction']"
   ]
  },
  {
   "cell_type": "code",
   "execution_count": 66,
   "metadata": {},
   "outputs": [],
   "source": [
    "predicted = sample['Prediction']"
   ]
  },
  {
   "cell_type": "code",
   "execution_count": 72,
   "metadata": {},
   "outputs": [],
   "source": [
    "compare = pd.concat([original_predictions,predicted],axis = 1,ignore_index = True)"
   ]
  },
  {
   "cell_type": "code",
   "execution_count": 73,
   "metadata": {},
   "outputs": [
    {
     "data": {
      "text/html": [
       "<div>\n",
       "<style scoped>\n",
       "    .dataframe tbody tr th:only-of-type {\n",
       "        vertical-align: middle;\n",
       "    }\n",
       "\n",
       "    .dataframe tbody tr th {\n",
       "        vertical-align: top;\n",
       "    }\n",
       "\n",
       "    .dataframe thead th {\n",
       "        text-align: right;\n",
       "    }\n",
       "</style>\n",
       "<table border=\"1\" class=\"dataframe\">\n",
       "  <thead>\n",
       "    <tr style=\"text-align: right;\">\n",
       "      <th></th>\n",
       "      <th>0</th>\n",
       "      <th>1</th>\n",
       "    </tr>\n",
       "  </thead>\n",
       "  <tbody>\n",
       "    <tr>\n",
       "      <th>0</th>\n",
       "      <td>1</td>\n",
       "      <td>1</td>\n",
       "    </tr>\n",
       "    <tr>\n",
       "      <th>1</th>\n",
       "      <td>1</td>\n",
       "      <td>1</td>\n",
       "    </tr>\n",
       "    <tr>\n",
       "      <th>2</th>\n",
       "      <td>1</td>\n",
       "      <td>1</td>\n",
       "    </tr>\n",
       "    <tr>\n",
       "      <th>3</th>\n",
       "      <td>1</td>\n",
       "      <td>1</td>\n",
       "    </tr>\n",
       "    <tr>\n",
       "      <th>4</th>\n",
       "      <td>1</td>\n",
       "      <td>1</td>\n",
       "    </tr>\n",
       "    <tr>\n",
       "      <th>...</th>\n",
       "      <td>...</td>\n",
       "      <td>...</td>\n",
       "    </tr>\n",
       "    <tr>\n",
       "      <th>120835</th>\n",
       "      <td>1</td>\n",
       "      <td>1</td>\n",
       "    </tr>\n",
       "    <tr>\n",
       "      <th>120836</th>\n",
       "      <td>1</td>\n",
       "      <td>1</td>\n",
       "    </tr>\n",
       "    <tr>\n",
       "      <th>120837</th>\n",
       "      <td>1</td>\n",
       "      <td>1</td>\n",
       "    </tr>\n",
       "    <tr>\n",
       "      <th>120838</th>\n",
       "      <td>1</td>\n",
       "      <td>1</td>\n",
       "    </tr>\n",
       "    <tr>\n",
       "      <th>120839</th>\n",
       "      <td>1</td>\n",
       "      <td>1</td>\n",
       "    </tr>\n",
       "  </tbody>\n",
       "</table>\n",
       "<p>120840 rows × 2 columns</p>\n",
       "</div>"
      ],
      "text/plain": [
       "        0  1\n",
       "0       1  1\n",
       "1       1  1\n",
       "2       1  1\n",
       "3       1  1\n",
       "4       1  1\n",
       "...    .. ..\n",
       "120835  1  1\n",
       "120836  1  1\n",
       "120837  1  1\n",
       "120838  1  1\n",
       "120839  1  1\n",
       "\n",
       "[120840 rows x 2 columns]"
      ]
     },
     "execution_count": 73,
     "metadata": {},
     "output_type": "execute_result"
    }
   ],
   "source": [
    "compare"
   ]
  },
  {
   "cell_type": "code",
   "execution_count": 74,
   "metadata": {},
   "outputs": [],
   "source": [
    "from sklearn.metrics import confusion_matrix"
   ]
  },
  {
   "cell_type": "code",
   "execution_count": 75,
   "metadata": {},
   "outputs": [
    {
     "data": {
      "text/plain": [
       "array([[15945, 13969],\n",
       "       [  146, 90780]], dtype=int64)"
      ]
     },
     "execution_count": 75,
     "metadata": {},
     "output_type": "execute_result"
    }
   ],
   "source": [
    "confusion_matrix(original_predictions,predicted)"
   ]
  },
  {
   "cell_type": "code",
   "execution_count": null,
   "metadata": {},
   "outputs": [],
   "source": []
  }
 ],
 "metadata": {
  "kernelspec": {
   "display_name": "Python 3",
   "language": "python",
   "name": "python3"
  },
  "language_info": {
   "codemirror_mode": {
    "name": "ipython",
    "version": 3
   },
   "file_extension": ".py",
   "mimetype": "text/x-python",
   "name": "python",
   "nbconvert_exporter": "python",
   "pygments_lexer": "ipython3",
   "version": "3.8.3"
  }
 },
 "nbformat": 4,
 "nbformat_minor": 4
}
